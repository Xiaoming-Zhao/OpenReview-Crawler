{
 "cells": [
  {
   "cell_type": "code",
   "execution_count": 1,
   "metadata": {},
   "outputs": [],
   "source": [
    "import pickle\n",
    "import numpy as np"
   ]
  },
  {
   "cell_type": "code",
   "execution_count": 2,
   "metadata": {},
   "outputs": [],
   "source": [
    "iclr2020 = pickle.load(open(\"./infos.p\", \"rb\"))"
   ]
  },
  {
   "cell_type": "code",
   "execution_count": 3,
   "metadata": {},
   "outputs": [],
   "source": [
    "top_list = []\n",
    "for k, v in iclr2020.items():\n",
    "    if np.sum((np.array(v[\"ratings\"]) - 8) >= 0) == len(v[\"ratings\"]):\n",
    "        top_list.append((k, v))"
   ]
  },
  {
   "cell_type": "code",
   "execution_count": 4,
   "metadata": {},
   "outputs": [],
   "source": [
    "with open('./README.md', 'r+') as readme:\n",
    "    lines = readme.readlines()\n",
    "    \n",
    "rank_title = '## Top-Ranked Papers\\n'\n",
    "idx = lines.index(rank_title)\n",
    "lines = lines[:idx]"
   ]
  },
  {
   "cell_type": "code",
   "execution_count": 5,
   "metadata": {},
   "outputs": [],
   "source": [
    "with open('/Users/apple/Documents/GitHub/OpenReview-Crawler/ICLR2020/README.md', 'w') as readme:\n",
    "    \n",
    "    for line in lines:\n",
    "        readme.write(line)\n",
    "        \n",
    "    readme.write(rank_title)\n",
    "\n",
    "    readme.write('| Rank | Average Rating | Title | Ratings | Decision |\\n')\n",
    "    readme.write('| --- | --- | --- | --- | --- |\\n')\n",
    "  \n",
    "    sorted_idx = np.argsort([np.mean(_[1][\"ratings\"]) for _ in top_list])[::-1]\n",
    "    \n",
    "    for i, idx in enumerate(sorted_idx):\n",
    "        \n",
    "        paper = top_list[idx]\n",
    "        \n",
    "        readme.write('| {} | {:.2f} | [{}]({}) | {} | {} |\\n'.format(\n",
    "            i + 1,\n",
    "            np.mean(paper[1][\"ratings\"]), \n",
    "            paper[0], paper[1][\"url\"],\n",
    "            ', '.join([str(_) for _ in paper[1][\"ratings\"]]),\n",
    "            paper[1][\"track\"]\n",
    "        ))"
   ]
  },
  {
   "cell_type": "code",
   "execution_count": null,
   "metadata": {},
   "outputs": [],
   "source": []
  }
 ],
 "metadata": {
  "kernelspec": {
   "display_name": "Python 3",
   "language": "python",
   "name": "python3"
  },
  "language_info": {
   "codemirror_mode": {
    "name": "ipython",
    "version": 3
   },
   "file_extension": ".py",
   "mimetype": "text/x-python",
   "name": "python",
   "nbconvert_exporter": "python",
   "pygments_lexer": "ipython3",
   "version": "3.6.10"
  }
 },
 "nbformat": 4,
 "nbformat_minor": 4
}
